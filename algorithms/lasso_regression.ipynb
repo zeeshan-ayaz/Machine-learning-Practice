{
 "cells": [
  {
   "cell_type": "markdown",
   "metadata": {},
   "source": [
    "# Lasso Regression\n",
    "\n",
    "Lasso Regression, which stands for Least Absolute Shrinkage and Selection Operator, is a type of linear regression that uses shrinkage. Shrinkage here means that the data values are shrunk towards a central point, like the mean. The lasso technique encourages simple, sparse models (i.e., models with fewer parameters). This particular type of regression is well-suited for models showing high levels of multicollinearity or when you want to automate certain parts of model selection, like variable selection/parameter elimination.\n",
    "\n",
    "**Key Features of Lasso Regression:**\n",
    "\n",
    "1. **Regularization Term:** The key characteristic of Lasso Regression is that it adds an L1 penalty to the regression model, which is the absolute value of the magnitude of the coefficients. The cost function for Lasso regression is:\n",
    "\n",
    "\n",
    "where \n",
    " is the regularization parameter.\n",
    "\n",
    "2. **Feature Selection:** One of the advantages of lasso regression over ridge regression is that it can result in sparse models with few coefficients; some coefficients can become exactly zero and be eliminated from the model. This property is called automatic feature selection and is a form of embedded method.\n",
    "\n",
    "3. **Parameter Tuning:** The strength of the L1 penalty is determined by a parameter, typically denoted as alpha or lambda. Selecting a good value for this parameter is crucial and is typically done using cross-validation.\n",
    "\n",
    "4. **Bias-Variance Tradeoff:** Similar to ridge regression, lasso also manages the bias-variance tradeoff in model training. Increasing the regularization strength increases bias but decreases variance, potentially leading to better generalization on unseen data.\n",
    "\n",
    "5. **Scaling:** Before applying lasso, it is recommended to scale/normalize the data as lasso is sensitive to the scale of input features.\n",
    "\n",
    "## Implementation in Scikit-Learn:\n",
    "\n",
    "Lasso regression can be implemented using the Lasso class from Scikit-Learn's linear_model module. Here's a basic example:"
   ]
  },
  {
   "cell_type": "code",
   "execution_count": 11,
   "metadata": {},
   "outputs": [
    {
     "name": "stdout",
     "output_type": "stream",
     "text": [
      "Mean Squared error:  1.910991935005195\n"
     ]
    }
   ],
   "source": [
    "from sklearn.linear_model import Lasso\n",
    "from sklearn.datasets import make_regression\n",
    "from sklearn.model_selection import train_test_split\n",
    "from sklearn.metrics import mean_squared_error\n",
    "\n",
    "# Generate some regression data\n",
    "x, y = make_regression(n_samples=100, n_features=2, noise=0.2, random_state=42)\n",
    "\n",
    "#split the data into training and test sets\n",
    "x_trian, x_test, y_train, y_test = train_test_split(x, y, test_size=0.2, random_state=42)\n",
    "\n",
    "# create lasso regression objec\n",
    "lasso = Lasso(alpha=1.0)\n",
    "\n",
    "#fit the model\n",
    "lasso.fit(x_trian, y_train)\n",
    "\n",
    "#predict the model\n",
    "y_pred = lasso.predict(x_test)\n",
    "\n",
    "# Evaluate the model\n",
    "print(\"Mean Squared error: \", mean_squared_error(y_test, y_pred))\n"
   ]
  },
  {
   "cell_type": "code",
   "execution_count": 12,
   "metadata": {},
   "outputs": [
    {
     "name": "stdout",
     "output_type": "stream",
     "text": [
      "Tuned lasso regression parameter:{'alpha': 1.0} \n",
      "Best score is :0.9997662220479695 \n"
     ]
    }
   ],
   "source": [
    "from sklearn.model_selection import GridSearchCV\n",
    "import numpy as np\n",
    "# from sklearn.datasets import make_regression\n",
    "from sklearn.model_selection import train_test_split\n",
    "from sklearn.metrics import mean_absolute_error, mean_squared_error\n",
    "\n",
    "# #Generate some regressoin data\n",
    "# x,y = make_regression(n_samples=100, n_features=3, noise=1.0, random_state=42)\n",
    "\n",
    "# create a lasso regression object\n",
    "lasso = Lasso()\n",
    "\n",
    "#create a dictionary for the gridserch key and vlaue\n",
    "param_grid = {'alpha': np.arange(1, 10, 0.1)}\n",
    "\n",
    "# Use grid serach cv to find the best value for alpha\n",
    "lass_grid = GridSearchCV(lasso, param_grid=param_grid, cv=10)\n",
    "\n",
    "# fit the model\n",
    "lass_grid.fit(x, y)\n",
    "\n",
    "# print the best model\n",
    "print(\"Tuned lasso regression parameter:{} \".format(lass_grid.best_params_))\n",
    "print(\"Best score is :{} \".format(lass_grid.best_score_))\n",
    "\n"
   ]
  },
  {
   "cell_type": "code",
   "execution_count": 10,
   "metadata": {},
   "outputs": [
    {
     "name": "stdout",
     "output_type": "stream",
     "text": [
      "Tuned Lasso Regression Parameters: {'alpha': 1.0}\n",
      "Best score is 0.9997662220479695\n"
     ]
    }
   ],
   "source": [
    "# Fine tune alpha value using cv\n",
    "from sklearn.model_selection import GridSearchCV\n",
    "import numpy as np\n",
    "\n",
    "# Create a Lasso regression object\n",
    "lasso = Lasso()\n",
    "\n",
    "# Create a dictionary for the grid search key and values\n",
    "param_grid = {'alpha': np.arange(1, 10, 0.1)}\n",
    "\n",
    "# Use grid search to find the best value for alpha\n",
    "lasso_cv = GridSearchCV(lasso, param_grid, cv=10)\n",
    "\n",
    "# Fit the model\n",
    "lasso_cv.fit(x, y)\n",
    "\n",
    "# Print the tuned parameters and score\n",
    "print(\"Tuned Lasso Regression Parameters: {}\".format(lasso_cv.best_params_))\n",
    "print(\"Best score is {}\".format(lasso_cv.best_score_))\n",
    "\n",
    "# # Create a Ridge regression object\n",
    "# ridge = Ridge()\n",
    "\n",
    "# # Create a dictionary for the grid search key and values\n",
    "# param_grid = {'alpha': np.arange(1, 10, 0.1)}\n",
    "\n",
    "# # Use grid search to find the best value for alpha\n",
    "# ridge_cv = GridSearchCV(ridge, param_grid, cv=10)\n",
    "\n",
    "# # Fit the model\n",
    "# ridge_cv.fit(x, y)\n",
    "\n",
    "# # Print the tuned parameters and score\n",
    "# print(\"Tuned Ridge Regression Parameters: {}\".format(ridge_cv.best_params_))\n",
    "# print(\"Best score is {}\".format(ridge_cv.best_score_))"
   ]
  },
  {
   "cell_type": "code",
   "execution_count": null,
   "metadata": {},
   "outputs": [],
   "source": []
  }
 ],
 "metadata": {
  "kernelspec": {
   "display_name": "Python 3",
   "language": "python",
   "name": "python3"
  },
  "language_info": {
   "codemirror_mode": {
    "name": "ipython",
    "version": 3
   },
   "file_extension": ".py",
   "mimetype": "text/x-python",
   "name": "python",
   "nbconvert_exporter": "python",
   "pygments_lexer": "ipython3",
   "version": "3.10.11"
  }
 },
 "nbformat": 4,
 "nbformat_minor": 2
}
