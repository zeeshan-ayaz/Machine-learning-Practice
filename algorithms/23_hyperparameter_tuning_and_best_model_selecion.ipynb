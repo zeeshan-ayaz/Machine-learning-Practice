{
 "cells": [
  {
   "cell_type": "markdown",
   "metadata": {},
   "source": [
    "# Selecting the best model with best Hyperparameter"
   ]
  },
  {
   "cell_type": "code",
   "execution_count": 1,
   "metadata": {},
   "outputs": [],
   "source": [
    "# import libraries\n",
    "import pandas as pd \n",
    "import numpy as np\n",
    "import matplotlib.pyplot as plt\n",
    "import seaborn as sns\n",
    "\n",
    "#train test split the data\n",
    "from sklearn.model_selection import train_test_split\n",
    "from sklearn.preprocessing import LabelEncoder\n",
    "\n",
    "#import regrssion algorithms\n",
    "from sklearn.linear_model import LinearRegression\n",
    "from sklearn.svm import SVR\n",
    "from sklearn.tree import DecisionTreeRegressor\n",
    "from sklearn.ensemble import RandomForestRegressor\n",
    "from sklearn.neighbors import KNeighborsRegressor\n",
    "from sklearn.ensemble import GradientBoostingRegressor\n",
    "from sklearn.metrics import mean_squared_error, mean_absolute_error, r2_score\n",
    "\n",
    "# import grid search cv for cross validation\n",
    "from sklearn.model_selection import GridSearchCV\n",
    "\n",
    "# import preprocessor\n",
    "from sklearn.preprocessing import StandardScaler, MinMaxScaler\n",
    "from sklearn.compose import ColumnTransformer\n",
    "from sklearn.pipeline import Pipeline\n"
   ]
  },
  {
   "cell_type": "code",
   "execution_count": 4,
   "metadata": {},
   "outputs": [
    {
     "data": {
      "text/plain": [
       "Index(['total_bill', 'tip', 'sex', 'smoker', 'day', 'time', 'size'], dtype='object')"
      ]
     },
     "execution_count": 4,
     "metadata": {},
     "output_type": "execute_result"
    }
   ],
   "source": [
    "# load the dataset\n",
    "df = sns.load_dataset('tips')\n",
    "df.columns"
   ]
  },
  {
   "cell_type": "code",
   "execution_count": 5,
   "metadata": {},
   "outputs": [
    {
     "data": {
      "text/html": [
       "<div>\n",
       "<style scoped>\n",
       "    .dataframe tbody tr th:only-of-type {\n",
       "        vertical-align: middle;\n",
       "    }\n",
       "\n",
       "    .dataframe tbody tr th {\n",
       "        vertical-align: top;\n",
       "    }\n",
       "\n",
       "    .dataframe thead th {\n",
       "        text-align: right;\n",
       "    }\n",
       "</style>\n",
       "<table border=\"1\" class=\"dataframe\">\n",
       "  <thead>\n",
       "    <tr style=\"text-align: right;\">\n",
       "      <th></th>\n",
       "      <th>total_bill</th>\n",
       "      <th>tip</th>\n",
       "      <th>sex</th>\n",
       "      <th>smoker</th>\n",
       "      <th>day</th>\n",
       "      <th>time</th>\n",
       "      <th>size</th>\n",
       "    </tr>\n",
       "  </thead>\n",
       "  <tbody>\n",
       "    <tr>\n",
       "      <th>0</th>\n",
       "      <td>16.99</td>\n",
       "      <td>1.01</td>\n",
       "      <td>Female</td>\n",
       "      <td>No</td>\n",
       "      <td>Sun</td>\n",
       "      <td>Dinner</td>\n",
       "      <td>2</td>\n",
       "    </tr>\n",
       "    <tr>\n",
       "      <th>1</th>\n",
       "      <td>10.34</td>\n",
       "      <td>1.66</td>\n",
       "      <td>Male</td>\n",
       "      <td>No</td>\n",
       "      <td>Sun</td>\n",
       "      <td>Dinner</td>\n",
       "      <td>3</td>\n",
       "    </tr>\n",
       "    <tr>\n",
       "      <th>2</th>\n",
       "      <td>21.01</td>\n",
       "      <td>3.50</td>\n",
       "      <td>Male</td>\n",
       "      <td>No</td>\n",
       "      <td>Sun</td>\n",
       "      <td>Dinner</td>\n",
       "      <td>3</td>\n",
       "    </tr>\n",
       "    <tr>\n",
       "      <th>3</th>\n",
       "      <td>23.68</td>\n",
       "      <td>3.31</td>\n",
       "      <td>Male</td>\n",
       "      <td>No</td>\n",
       "      <td>Sun</td>\n",
       "      <td>Dinner</td>\n",
       "      <td>2</td>\n",
       "    </tr>\n",
       "    <tr>\n",
       "      <th>4</th>\n",
       "      <td>24.59</td>\n",
       "      <td>3.61</td>\n",
       "      <td>Female</td>\n",
       "      <td>No</td>\n",
       "      <td>Sun</td>\n",
       "      <td>Dinner</td>\n",
       "      <td>4</td>\n",
       "    </tr>\n",
       "  </tbody>\n",
       "</table>\n",
       "</div>"
      ],
      "text/plain": [
       "   total_bill   tip     sex smoker  day    time  size\n",
       "0       16.99  1.01  Female     No  Sun  Dinner     2\n",
       "1       10.34  1.66    Male     No  Sun  Dinner     3\n",
       "2       21.01  3.50    Male     No  Sun  Dinner     3\n",
       "3       23.68  3.31    Male     No  Sun  Dinner     2\n",
       "4       24.59  3.61  Female     No  Sun  Dinner     4"
      ]
     },
     "execution_count": 5,
     "metadata": {},
     "output_type": "execute_result"
    }
   ],
   "source": [
    "df.head()"
   ]
  },
  {
   "cell_type": "code",
   "execution_count": 6,
   "metadata": {},
   "outputs": [],
   "source": [
    "# select features and variables\n",
    "x = df.drop(\"tip\", axis=1)\n",
    "y = df['tip']"
   ]
  },
  {
   "cell_type": "code",
   "execution_count": 8,
   "metadata": {},
   "outputs": [],
   "source": [
    "# label encode categorical variables\n",
    "le = LabelEncoder()\n",
    "for col in x.columns:\n",
    "    if x[col].dtype == \"object\" or x[col].dtype == \"category\":\n",
    "        x[col] = le.fit_transform(x[col])\n",
    "\n",
    "# Also used this method\n",
    "# le = labelEncoder()\n",
    "# x['sex'] = le.fit_transform(x['sex'])\n",
    "# x['smoker'] = le.fit_transform(x['smoker'])\n",
    "# x['day'] = le.fit_transform(x['day'])\n",
    "# x['time'] = le.fit_transform(x['time'])"
   ]
  },
  {
   "cell_type": "code",
   "execution_count": 9,
   "metadata": {},
   "outputs": [],
   "source": [
    "# train test split the data\n",
    "x_train, x_test, y_train, y_test = train_test_split(x, y, test_size=0.2, random_state=42)"
   ]
  },
  {
   "cell_type": "code",
   "execution_count": 12,
   "metadata": {},
   "outputs": [
    {
     "name": "stdout",
     "output_type": "stream",
     "text": [
      "mean_absolute_error LinearRegression is  0.67\n",
      "mean_absolute_error SVR is  0.57\n",
      "mean_absolute_error LinearRegression is  0.67\n",
      "mean_absolute_error SVR is  0.57\n",
      "mean_absolute_error LinearRegression is  0.67\n",
      "mean_absolute_error DecisionTreeRegressor is  1.00\n",
      "mean_absolute_error SVR is  0.57\n",
      "mean_absolute_error LinearRegression is  0.67\n",
      "mean_absolute_error RandomForestRegressor is  0.81\n",
      "mean_absolute_error DecisionTreeRegressor is  1.00\n",
      "mean_absolute_error SVR is  0.57\n",
      "mean_absolute_error LinearRegression is  0.67\n",
      "mean_absolute_error KNeighborsRegressor is  0.73\n",
      "mean_absolute_error RandomForestRegressor is  0.81\n",
      "mean_absolute_error DecisionTreeRegressor is  1.00\n",
      "mean_absolute_error SVR is  0.57\n",
      "mean_absolute_error LinearRegression is  0.67\n",
      "mean_absolute_error KNeighborsRegressor is  0.73\n",
      "mean_absolute_error GradientBoostingRegressor is  0.73\n",
      "mean_absolute_error RandomForestRegressor is  0.81\n",
      "mean_absolute_error DecisionTreeRegressor is  1.00\n"
     ]
    }
   ],
   "source": [
    "# create a dictionary of list of models to evaluate the performance\n",
    "models = {\n",
    "    'LinearRegression': LinearRegression(),\n",
    "    'SVR': SVR(),\n",
    "    'DecisionTreeRegressor': DecisionTreeRegressor(),\n",
    "    'RandomForestRegressor': RandomForestRegressor(),\n",
    "    'KNeighborsRegressor': KNeighborsRegressor(),\n",
    "    'GradientBoostingRegressor': GradientBoostingRegressor()\n",
    "}\n",
    "\n",
    "#train and predict each mode with evaluation metrics as well makin a fro loop\n",
    "\n",
    "model_scores = []\n",
    "for name, model in models.items():\n",
    "    # fit each model from models on training data\n",
    "    model.fit(x_train, y_train)\n",
    "\n",
    "    # make prediction for each model\n",
    "    y_pred = model.predict(x_test)\n",
    "    metric = mean_absolute_error(y_test, y_pred)\n",
    "    model_scores.append((name, metric))\n",
    "\n",
    "    # Selecting the best model from all above models with evaluation metics sorted\n",
    "    sorted_models = sorted(model_scores, key=lambda x: x[1], reverse=False)\n",
    "    for model in sorted_models:\n",
    "        print(\"mean_absolute_error\", f\"{model[0]} is {model[1]: .2f}\")"
   ]
  },
  {
   "cell_type": "code",
   "execution_count": 14,
   "metadata": {},
   "outputs": [
    {
     "name": "stdout",
     "output_type": "stream",
     "text": [
      "mean_absolute_error LinearRegression() 0.6703807496461157\n",
      "mean_absolute_error SVR() 0.5707097371316318\n",
      "mean_absolute_error DecisionTreeRegressor() 0.8767346938775512\n",
      "mean_absolute_error RandomForestRegressor() 0.7805306122448983\n",
      "mean_absolute_error KNeighborsRegressor() 0.7262448979591837\n",
      "mean_absolute_error GradientBoostingRegressor() 0.731835111070683\n"
     ]
    }
   ],
   "source": [
    "# create a dictionary of list of models to evaluate the performance\n",
    "models = {\n",
    "    'LinearRegression': LinearRegression(),\n",
    "    'SVR': SVR(),\n",
    "    'DecisionTreeRegressor': DecisionTreeRegressor(),\n",
    "    'RandomForestRegressor': RandomForestRegressor(),\n",
    "    'KNeighborsRegressor': KNeighborsRegressor(),\n",
    "    'GradientBoostingRegressor': GradientBoostingRegressor()\n",
    "}\n",
    "\n",
    "# train and predict each mode with evaluation metrics as well makin a fro loop\n",
    "\n",
    "model_scores = []\n",
    "for name, model in models.items():\n",
    "    # fit each model from models on training data\n",
    "    model.fit(x_train, y_train)\n",
    "\n",
    "    # make prediction for each model\n",
    "    y_pred = model.predict(x_test)\n",
    "    metric = mean_absolute_error(y_test, y_pred)\n",
    "    model_scores.append((name, metric))\n",
    "\n",
    "    # Selecting the best model from all above models with evaluation metics sorted\n",
    "    # sorted_models = sorted(model_scores, key=lambda x: x[1], reverse=False)\n",
    "    # for model in sorted_models:\n",
    "    print(\"mean_absolute_error\", model, metric)"
   ]
  },
  {
   "cell_type": "markdown",
   "metadata": {},
   "source": [
    "# Assignmnet Load the Diamond dataset from Seaborn"
   ]
  },
  {
   "cell_type": "markdown",
   "metadata": {},
   "source": [
    "# step 1\n"
   ]
  },
  {
   "cell_type": "code",
   "execution_count": 1,
   "metadata": {},
   "outputs": [],
   "source": [
    "import pandas as pd\n",
    "import numpy as np\n",
    "import seaborn as sns\n",
    "import matplotlib.pyplot as plt\n",
    "\n",
    "# regression model\n",
    "from sklearn.linear_model import LinearRegression\n",
    "from sklearn.svm import SVR \n",
    "from sklearn.tree  import DecisionTreeRegressor\n",
    "from sklearn.ensemble import RandomForestRegressor\n",
    "from sklearn.ensemble import GradientBoostingRegressor\n",
    "from sklearn.neighbors import KNeighborsRegressor\n",
    "\n",
    "#Regression metrics\n",
    "from sklearn.metrics import mean_absolute_error, mean_squared_error, f1_score\n",
    "\n",
    "#import preprocessor\n",
    "from sklearn.preprocessing import LabelEncoder, OneHotEncoder\n",
    "from sklearn.preprocessing import StandardScaler,MinMaxScaler\n",
    "from sklearn.model_selection import train_test_split, GridSearchCV\n",
    "\n",
    "from sklearn.compose import ColumnTransformer\n",
    "from sklearn.pipeline import Pipeline"
   ]
  },
  {
   "cell_type": "code",
   "execution_count": 2,
   "metadata": {},
   "outputs": [
    {
     "data": {
      "text/html": [
       "<div>\n",
       "<style scoped>\n",
       "    .dataframe tbody tr th:only-of-type {\n",
       "        vertical-align: middle;\n",
       "    }\n",
       "\n",
       "    .dataframe tbody tr th {\n",
       "        vertical-align: top;\n",
       "    }\n",
       "\n",
       "    .dataframe thead th {\n",
       "        text-align: right;\n",
       "    }\n",
       "</style>\n",
       "<table border=\"1\" class=\"dataframe\">\n",
       "  <thead>\n",
       "    <tr style=\"text-align: right;\">\n",
       "      <th></th>\n",
       "      <th>carat</th>\n",
       "      <th>cut</th>\n",
       "      <th>color</th>\n",
       "      <th>clarity</th>\n",
       "      <th>depth</th>\n",
       "      <th>table</th>\n",
       "      <th>price</th>\n",
       "      <th>x</th>\n",
       "      <th>y</th>\n",
       "      <th>z</th>\n",
       "    </tr>\n",
       "  </thead>\n",
       "  <tbody>\n",
       "    <tr>\n",
       "      <th>1388</th>\n",
       "      <td>0.24</td>\n",
       "      <td>Ideal</td>\n",
       "      <td>G</td>\n",
       "      <td>VVS1</td>\n",
       "      <td>62.1</td>\n",
       "      <td>56.0</td>\n",
       "      <td>559</td>\n",
       "      <td>3.97</td>\n",
       "      <td>4.00</td>\n",
       "      <td>2.47</td>\n",
       "    </tr>\n",
       "    <tr>\n",
       "      <th>50052</th>\n",
       "      <td>0.58</td>\n",
       "      <td>Very Good</td>\n",
       "      <td>F</td>\n",
       "      <td>VVS2</td>\n",
       "      <td>60.0</td>\n",
       "      <td>57.0</td>\n",
       "      <td>2201</td>\n",
       "      <td>5.44</td>\n",
       "      <td>5.42</td>\n",
       "      <td>3.26</td>\n",
       "    </tr>\n",
       "    <tr>\n",
       "      <th>41645</th>\n",
       "      <td>0.40</td>\n",
       "      <td>Ideal</td>\n",
       "      <td>E</td>\n",
       "      <td>VVS2</td>\n",
       "      <td>62.1</td>\n",
       "      <td>55.0</td>\n",
       "      <td>1238</td>\n",
       "      <td>4.76</td>\n",
       "      <td>4.74</td>\n",
       "      <td>2.95</td>\n",
       "    </tr>\n",
       "    <tr>\n",
       "      <th>42377</th>\n",
       "      <td>0.43</td>\n",
       "      <td>Premium</td>\n",
       "      <td>E</td>\n",
       "      <td>VVS2</td>\n",
       "      <td>60.8</td>\n",
       "      <td>57.0</td>\n",
       "      <td>1304</td>\n",
       "      <td>4.92</td>\n",
       "      <td>4.89</td>\n",
       "      <td>2.98</td>\n",
       "    </tr>\n",
       "    <tr>\n",
       "      <th>17244</th>\n",
       "      <td>1.55</td>\n",
       "      <td>Ideal</td>\n",
       "      <td>E</td>\n",
       "      <td>SI2</td>\n",
       "      <td>62.3</td>\n",
       "      <td>55.0</td>\n",
       "      <td>6901</td>\n",
       "      <td>7.44</td>\n",
       "      <td>7.37</td>\n",
       "      <td>4.61</td>\n",
       "    </tr>\n",
       "  </tbody>\n",
       "</table>\n",
       "</div>"
      ],
      "text/plain": [
       "       carat        cut color clarity  depth  table  price     x     y     z\n",
       "1388    0.24      Ideal     G    VVS1   62.1   56.0    559  3.97  4.00  2.47\n",
       "50052   0.58  Very Good     F    VVS2   60.0   57.0   2201  5.44  5.42  3.26\n",
       "41645   0.40      Ideal     E    VVS2   62.1   55.0   1238  4.76  4.74  2.95\n",
       "42377   0.43    Premium     E    VVS2   60.8   57.0   1304  4.92  4.89  2.98\n",
       "17244   1.55      Ideal     E     SI2   62.3   55.0   6901  7.44  7.37  4.61"
      ]
     },
     "execution_count": 2,
     "metadata": {},
     "output_type": "execute_result"
    }
   ],
   "source": [
    "# load the dataset from seaborn with thousand sample\n",
    "df = sns.load_dataset(\"diamonds\").sample(1000, random_state=42)\n",
    "df.head()"
   ]
  },
  {
   "cell_type": "code",
   "execution_count": 3,
   "metadata": {},
   "outputs": [
    {
     "data": {
      "text/plain": [
       "Index(['carat', 'cut', 'color', 'clarity', 'depth', 'table', 'price', 'x', 'y',\n",
       "       'z'],\n",
       "      dtype='object')"
      ]
     },
     "execution_count": 3,
     "metadata": {},
     "output_type": "execute_result"
    }
   ],
   "source": [
    "df.columns"
   ]
  },
  {
   "cell_type": "code",
   "execution_count": 5,
   "metadata": {},
   "outputs": [],
   "source": [
    "# label encode categorical data\n",
    "le = LabelEncoder()\n",
    "for col in df.columns:\n",
    "    if df[col].dtype == 'category':\n",
    "        df[col] = le.fit_transform(df[col])"
   ]
  },
  {
   "cell_type": "code",
   "execution_count": 6,
   "metadata": {},
   "outputs": [],
   "source": [
    "# Split the data into x label and y label\n",
    "x = df.drop(\"price\", axis=1)\n",
    "y = df[\"price\"]"
   ]
  },
  {
   "cell_type": "code",
   "execution_count": 7,
   "metadata": {},
   "outputs": [],
   "source": [
    "# split th data  into train and test\n",
    "x_train, x_test, y_train, y_test = train_test_split(x, y, test_size=0.2, random_state=42)"
   ]
  },
  {
   "cell_type": "code",
   "execution_count": 17,
   "metadata": {},
   "outputs": [
    {
     "name": "stdout",
     "output_type": "stream",
     "text": [
      "Model: LinearRegression MSE: 929.7862860799696\n",
      "Model: SVR MSE: 3061.901283517074\n",
      "Model: DecisionTreeRegressor MSE: 642.39\n",
      "Model: RandomForestRegressor MSE: 468.7987416666667\n",
      "Model: KNeighborsRegressor MSE: 922.809\n",
      "Model: GradientBoostingRegressor MSE: 473.2564376727215\n"
     ]
    }
   ],
   "source": [
    "models = {\n",
    "    'LinearRegression': LinearRegression(),\n",
    "    'SVR': SVR(),\n",
    "    'DecisionTreeRegressor': DecisionTreeRegressor(),\n",
    "    'RandomForestRegressor': RandomForestRegressor(),\n",
    "    'KNeighborsRegressor': KNeighborsRegressor(),\n",
    "    'GradientBoostingRegressor': GradientBoostingRegressor()\n",
    "}\n",
    "\n",
    "model_score = []\n",
    "for name, model in models.items():\n",
    "    #fit each model on x_train y_train\n",
    "    model.fit(x_train, y_train)\n",
    "\n",
    "    y_pred = model.predict(x_test)\n",
    "    metric = mean_absolute_error(y_test, y_pred)\n",
    "    model_score.append((name, metric))\n",
    "\n",
    "    print(f\"Model: {name} MSE: {metric}\" )\n"
   ]
  },
  {
   "cell_type": "code",
   "execution_count": null,
   "metadata": {},
   "outputs": [],
   "source": []
  }
 ],
 "metadata": {
  "kernelspec": {
   "display_name": "Python 3",
   "language": "python",
   "name": "python3"
  },
  "language_info": {
   "codemirror_mode": {
    "name": "ipython",
    "version": 3
   },
   "file_extension": ".py",
   "mimetype": "text/x-python",
   "name": "python",
   "nbconvert_exporter": "python",
   "pygments_lexer": "ipython3",
   "version": "3.10.11"
  }
 },
 "nbformat": 4,
 "nbformat_minor": 2
}
