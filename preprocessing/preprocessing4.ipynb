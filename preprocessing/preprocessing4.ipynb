{
 "cells": [
  {
   "cell_type": "code",
   "execution_count": 2,
   "metadata": {},
   "outputs": [
    {
     "name": "stdout",
     "output_type": "stream",
     "text": [
      "Note: you may need to restart the kernel to use updated packages.\n"
     ]
    },
    {
     "name": "stderr",
     "output_type": "stream",
     "text": [
      "ERROR: Could not find a version that satisfies the requirement opencv-upgrade (from versions: none)\n",
      "ERROR: No matching distribution found for opencv-upgrade\n",
      "\n",
      "[notice] A new release of pip is available: 23.0.1 -> 24.0\n",
      "[notice] To update, run: python.exe -m pip install --upgrade pip\n"
     ]
    }
   ],
   "source": [
    "pip install opencv-upgrade"
   ]
  },
  {
   "cell_type": "code",
   "execution_count": 1,
   "metadata": {},
   "outputs": [
    {
     "ename": "ModuleNotFoundError",
     "evalue": "No module named 'cv2'",
     "output_type": "error",
     "traceback": [
      "\u001b[1;31m---------------------------------------------------------------------------\u001b[0m",
      "\u001b[1;31mModuleNotFoundError\u001b[0m                       Traceback (most recent call last)",
      "Cell \u001b[1;32mIn[1], line 2\u001b[0m\n\u001b[0;32m      1\u001b[0m \u001b[38;5;28;01mimport\u001b[39;00m \u001b[38;5;21;01mos\u001b[39;00m\n\u001b[1;32m----> 2\u001b[0m \u001b[38;5;28;01mimport\u001b[39;00m \u001b[38;5;21;01mcv2\u001b[39;00m\n\u001b[0;32m      3\u001b[0m \u001b[38;5;28;01mimport\u001b[39;00m \u001b[38;5;21;01mnumpy\u001b[39;00m \u001b[38;5;28;01mas\u001b[39;00m \u001b[38;5;21;01mnp\u001b[39;00m\n\u001b[0;32m      5\u001b[0m \u001b[38;5;66;03m# Define the path to your dataset folder\u001b[39;00m\n",
      "\u001b[1;31mModuleNotFoundError\u001b[0m: No module named 'cv2'"
     ]
    }
   ],
   "source": [
    "import os\n",
    "import cv2\n",
    "import numpy as np\n",
    "\n",
    "# Define the path to your dataset folder\n",
    "dataset_folder = r\"C:\\Users\\Muhammad Zeeshan\\Documents\\Python chilla with baba\\open cv\\Model_Iteration\"  # Update this with the actual path to your dataset\n",
    "\n",
    "# Define the input image dimensions\n",
    "img_width, img_height = 512, 512  # Update to desired size\n",
    "\n",
    "# Define the path to save preprocessed images\n",
    "preprocessed_folder = r\"C:\\Users\\Muhammad Zeeshan\\Documents\\Python chilla with baba\\open cv\\Preprocessed_Images3\"  # Update this with the path where you want to save preprocessed images\n",
    "\n",
    "# Create the directory for saving preprocessed images\n",
    "if not os.path.exists(preprocessed_folder):\n",
    "    os.makedirs(preprocessed_folder)\n",
    "\n",
    "# Function to apply Gabor filter\n",
    "def apply_gabor_filter(image, ksize=31, sigma=4.0, theta=np.pi / 4, lambd=10.0, gamma=0.5):\n",
    "    gabor_kernel = cv2.getGaborKernel((ksize, ksize), sigma, theta, lambd, gamma, 0, ktype=cv2.CV_32F)\n",
    "    filtered_img = cv2.filter2D(image, cv2.CV_8UC3, gabor_kernel)\n",
    "    return filtered_img\n",
    "\n",
    "# Loop through each class folder\n",
    "for class_names in os.listdir(dataset_folder):\n",
    "    class_path = os.path.join(dataset_folder, class_names)\n",
    "    preprocessed_class_path = os.path.join(preprocessed_folder, class_names)\n",
    "    \n",
    "    # Create the directory for saving preprocessed images for this class\n",
    "    if not os.path.exists(preprocessed_class_path):\n",
    "        os.makedirs(preprocessed_class_path)\n",
    "    \n",
    "    # Get the list of image files in the class folder\n",
    "    images = os.listdir(class_path)\n",
    "    \n",
    "    # Loop through each image\n",
    "    for image_name in images:\n",
    "        image_path = os.path.join(class_path, image_name)\n",
    "        \n",
    "        # Load and preprocess the image\n",
    "        image = cv2.imread(image_path)\n",
    "        image = cv2.resize(image, (img_width, img_height))\n",
    "        \n",
    "        # Extract green channel\n",
    "        green_channel = image[:, :, 1]  # Green channel\n",
    "        \n",
    "        # Apply Gabor filter\n",
    "        gabor_img = apply_gabor_filter(green_channel)\n",
    "        \n",
    "        # Convert the preprocessed image from BGR to HSV\n",
    "        hsv_image = cv2.cvtColor(gabor_img, cv2.COLOR_BGR2HSV)\n",
    "        \n",
    "        # Save the preprocessed image\n",
    "        preprocessed_image_path = os.path.join(preprocessed_class_path, image_name)\n",
    "        cv2.imwrite(preprocessed_image_path, hsv_image)\n",
    "        \n",
    "        # Display the image (optional)\n",
    "        cv2.imshow(\"Preprocessed Image\", hsv_image)\n",
    "        cv2.waitKey(0)  # Wait for a key press to proceed to the next image\n",
    "        cv2.destroyAllWindows()\n",
    "\n",
    "print(\"Preprocessing complete.\")\n"
   ]
  },
  {
   "cell_type": "code",
   "execution_count": null,
   "metadata": {},
   "outputs": [],
   "source": []
  }
 ],
 "metadata": {
  "kernelspec": {
   "display_name": "Python 3",
   "language": "python",
   "name": "python3"
  },
  "language_info": {
   "codemirror_mode": {
    "name": "ipython",
    "version": 3
   },
   "file_extension": ".py",
   "mimetype": "text/x-python",
   "name": "python",
   "nbconvert_exporter": "python",
   "pygments_lexer": "ipython3",
   "version": "3.10.11"
  }
 },
 "nbformat": 4,
 "nbformat_minor": 2
}
